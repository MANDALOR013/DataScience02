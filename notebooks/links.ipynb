{
 "cells": [
  {
   "cell_type": "code",
   "execution_count": 17,
   "id": "00f99a52",
   "metadata": {},
   "outputs": [],
   "source": [
    "import urllib\n",
    "import requests\n",
    "from pathlib import Path\n",
    "from bs4 import BeautifulSoup"
   ]
  },
  {
   "cell_type": "code",
   "execution_count": 27,
   "id": "e8cb4de9",
   "metadata": {},
   "outputs": [
    {
     "ename": "IndentationError",
     "evalue": "expected an indented block (<ipython-input-27-118c1fbc0cd3>, line 20)",
     "output_type": "error",
     "traceback": [
      "\u001b[1;36m  File \u001b[1;32m\"<ipython-input-27-118c1fbc0cd3>\"\u001b[1;36m, line \u001b[1;32m20\u001b[0m\n\u001b[1;33m    arq.write(r.content)\u001b[0m\n\u001b[1;37m    ^\u001b[0m\n\u001b[1;31mIndentationError\u001b[0m\u001b[1;31m:\u001b[0m expected an indented block\n"
     ]
    }
   ],
   "source": [
    "def obtem_dados_censo(\n",
    "    url: str = \"https://www.gov.br/inep/pt-br/acesso-a-informacao/dados-abertos/microdados/censo-escolar\"\n",
    ") -> Path:\n",
    "    \"\"\"\n",
    "    Realiza o ddowload do censo escolar\n",
    "    :param url: endereço do site do INEP com os dados do censo\n",
    "    :return: caminho para os dados de saída\n",
    "    \"\"\"\n",
    "    html = urllib.request.urlopen(url).read()\n",
    "    soup = BeautifulSoup(html, features = \"html.parser\")\n",
    "    \n",
    "    links = {tag[\"href\"].split(\"_\")[-1]: tag[\"href\"] for tag in soup.find_all(\"a\", {\"class\": \"external-link\"})}\n",
    "    \n",
    "    caminho_saida = Path(\"../dados/censo_escolar\")\n",
    "    caminho_saida.mkdir(parents = True, exist_ok = True)\n",
    "    \n",
    "    for dado in links:\n",
    "        r = requests.get(links[dado], stream = True)\n",
    "        with open(caminho_saida / dado, \"wb\") as arq:\n",
    "        arq.write(r.content)"
   ]
  },
  {
   "cell_type": "code",
   "execution_count": 3,
   "id": "9a873281",
   "metadata": {},
   "outputs": [],
   "source": [
    "html = urllib.request.urlopen(\"https://www.gov.br/inep/pt-br/acesso-a-informacao/dados-abertos/microdados/censo-escolar\").read()"
   ]
  },
  {
   "cell_type": "code",
   "execution_count": 4,
   "id": "8e4f18f3",
   "metadata": {},
   "outputs": [],
   "source": [
    "soup = BeautifulSoup(html, features = \"html.parser\")"
   ]
  },
  {
   "cell_type": "code",
   "execution_count": 14,
   "id": "ba5a1bf5",
   "metadata": {},
   "outputs": [],
   "source": [
    "links = {tag[\"href\"].split(\"_\")[-1]: tag[\"href\"] for tag in soup.find_all(\"a\", {\"class\": \"external-link\"})}"
   ]
  },
  {
   "cell_type": "code",
   "execution_count": 18,
   "id": "f08d98f8",
   "metadata": {},
   "outputs": [],
   "source": [
    "caminho_saida = Path(\"../dados/censo_escolar\")\n",
    "caminho_saida.mkdir(parents = True, exist_ok = True)"
   ]
  },
  {
   "cell_type": "code",
   "execution_count": 26,
   "id": "e48539bf",
   "metadata": {},
   "outputs": [],
   "source": [
    "r = requests.get(links[\"1995.zip\"], stream = True)\n",
    "with open(caminho_saida / \"1995.zip\", \"wb\") as arq:\n",
    "    arq.write(r.content)"
   ]
  },
  {
   "cell_type": "markdown",
   "id": "cfbf9659",
   "metadata": {},
   "source": [
    "Censo_Escolar"
   ]
  },
  {
   "cell_type": "code",
   "execution_count": 2,
   "id": "edfc1fcc",
   "metadata": {},
   "outputs": [],
   "source": [
    "from enum import Enum\n",
    "\n",
    "\n",
    "class ETL(Enum):\n",
    "    censo_escolar = \"CENSO_ESCOLAR\""
   ]
  },
  {
   "cell_type": "code",
   "execution_count": 3,
   "id": "7a8e7971",
   "metadata": {},
   "outputs": [],
   "source": [
    "entrada = \"CENSO_ESCOLAR\""
   ]
  },
  {
   "cell_type": "code",
   "execution_count": 4,
   "id": "16f03a39",
   "metadata": {},
   "outputs": [
    {
     "data": {
      "text/plain": [
       "<ETL.censo_escolar: 'CENSO_ESCOLAR'>"
      ]
     },
     "execution_count": 4,
     "metadata": {},
     "output_type": "execute_result"
    }
   ],
   "source": [
    "ETL(entrada)"
   ]
  },
  {
   "cell_type": "code",
   "execution_count": null,
   "id": "3f8932f7",
   "metadata": {},
   "outputs": [],
   "source": []
  }
 ],
 "metadata": {
  "kernelspec": {
   "display_name": "Python 3",
   "language": "python",
   "name": "python3"
  },
  "language_info": {
   "codemirror_mode": {
    "name": "ipython",
    "version": 3
   },
   "file_extension": ".py",
   "mimetype": "text/x-python",
   "name": "python",
   "nbconvert_exporter": "python",
   "pygments_lexer": "ipython3",
   "version": "3.8.8"
  }
 },
 "nbformat": 4,
 "nbformat_minor": 5
}
